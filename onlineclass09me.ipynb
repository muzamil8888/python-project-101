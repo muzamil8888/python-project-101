{
  "nbformat": 4,
  "nbformat_minor": 0,
  "metadata": {
    "colab": {
      "provenance": [],
      "authorship_tag": "ABX9TyOuNObzxVTp9UgO86SxO03m",
      "include_colab_link": true
    },
    "kernelspec": {
      "name": "python3",
      "display_name": "Python 3"
    },
    "language_info": {
      "name": "python"
    }
  },
  "cells": [
    {
      "cell_type": "markdown",
      "metadata": {
        "id": "view-in-github",
        "colab_type": "text"
      },
      "source": [
        "<a href=\"https://colab.research.google.com/github/muzamil8888/python-project-101/blob/main/onlineclass09me.ipynb\" target=\"_parent\"><img src=\"https://colab.research.google.com/assets/colab-badge.svg\" alt=\"Open In Colab\"/></a>"
      ]
    },
    {
      "cell_type": "markdown",
      "source": [
        "#**OOP**:*(object oriented programming)*"
      ],
      "metadata": {
        "id": "VDWXgT0h90Mc"
      }
    },
    {
      "cell_type": "code",
      "execution_count": null,
      "metadata": {
        "colab": {
          "base_uri": "https://localhost:8080/"
        },
        "id": "QVqd79FJ64s5",
        "outputId": "9b650555-0c19-4e93-bbbf-dc42526b6d46"
      },
      "outputs": [
        {
          "output_type": "stream",
          "name": "stdout",
          "text": [
            "Muzamil house address : House No 1 \n",
            "Number of doors : 2\n",
            "Number of rooms : 7 ...\n",
            "\n",
            "Hamzah house address : House No 2 \n",
            "Number of doors : 3 \n",
            "Number of rooms : 4 ...\n"
          ]
        }
      ],
      "source": [
        "\n",
        "class House:\n",
        "  address : str\n",
        "  number_of_doors : int\n",
        "  number_of_rooms : int\n",
        "\n",
        "  def __init__(self, add : str , doors:int, rooms:int):\n",
        "    self.address = add\n",
        "    self.number_of_doors = doors\n",
        "    self.number_of_rooms = rooms\n",
        "  def ring(self):\n",
        "    print(\"Ring Ring\")\n",
        "\n",
        "hamzah_house = House(\"House No 1\",2 ,7)\n",
        "\n",
        "print(f\"\"\"Muzamil house address : { hamzah_house.address}\n",
        "Number of doors : {hamzah_house.number_of_doors}\n",
        "Number of rooms : {hamzah_house.number_of_rooms} ...\n",
        "\"\"\")\n",
        "\n",
        "muzamil_house = House(\"House No 2\",3 ,4)\n",
        "print(f\"\"\"Hamzah house address : { muzamil_house.address}\n",
        "Number of doors : {muzamil_house.number_of_doors}\n",
        "Number of rooms : {muzamil_house.number_of_rooms} ...\"\"\")\n"
      ]
    },
    {
      "cell_type": "code",
      "source": [
        "import random\n",
        "\n",
        "def guess(o):\n",
        "    random_number = random.randint(1, o)\n",
        "    guess = 0\n",
        "    while guess != random_number:\n",
        "        guess = int(input(f\"Guess a number betweem 1 and {o}:\"))\n",
        "        print(guess)\n",
        "        if guess < random_number:\n",
        "            print(\"Too low.\")\n",
        "        elif guess > random_number:\n",
        "            print(\"Too high.\")\n",
        "\n",
        "    print(f\"You have guessed number {random_number}:\")\n",
        "guess(100)"
      ],
      "metadata": {
        "id": "pWcH3bC44QI9"
      },
      "execution_count": null,
      "outputs": []
    }
  ]
}